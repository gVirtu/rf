{
 "cells": [
  {
   "cell_type": "code",
   "execution_count": 1,
   "metadata": {},
   "outputs": [
    {
     "data": {
      "text/plain": [
       "1114111"
      ]
     },
     "execution_count": 1,
     "metadata": {},
     "output_type": "execute_result"
    }
   ],
   "source": [
    "import unicodedata\n",
    "import collections\n",
    "import operator\n",
    "import sys\n",
    "sys.maxunicode"
   ]
  },
  {
   "cell_type": "code",
   "execution_count": 3,
   "metadata": {},
   "outputs": [
    {
     "data": {
      "text/plain": [
       "[('CJK', 89107),\n",
       " ('UNIFIED', 87942),\n",
       " ('SYLLABLE', 13393),\n",
       " ('HANGUL', 11735),\n",
       " ('LETTER', 10017),\n",
       " ('SIGN', 3156),\n",
       " ('WITH', 2676),\n",
       " ('SMALL', 2595),\n",
       " ('CAPITAL', 1967),\n",
       " ('HIEROGLYPH', 1654),\n",
       " ('LATIN', 1495),\n",
       " ('ARABIC', 1250),\n",
       " ('YI', 1249),\n",
       " ('CUNEIFORM', 1234),\n",
       " ('MATHEMATICAL', 1152),\n",
       " ('SYMBOL', 1151),\n",
       " ('EGYPTIAN', 1071),\n",
       " ('COMPATIBILITY', 1014),\n",
       " ('DIGIT', 828),\n",
       " ('FORM', 812),\n",
       " ('TANGUT', 756),\n",
       " ('VOWEL', 750),\n",
       " ('CANADIAN', 710),\n",
       " ('SYLLABICS', 710),\n",
       " ('A', 703),\n",
       " ('SIGNWRITING', 672),\n",
       " ('TIMES', 664),\n",
       " ('BAMUM', 657),\n",
       " ('AND', 584),\n",
       " ('BOLD', 584),\n",
       " ('ANATOLIAN', 583),\n",
       " ('ARROW', 572),\n",
       " ('LINEAR', 552),\n",
       " ('GREEK', 530),\n",
       " ('LIGATURE', 517),\n",
       " ('MUSICAL', 516),\n",
       " ('ETHIOPIC', 495),\n",
       " ('NUMBER', 488),\n",
       " ('OLD', 462),\n",
       " ('COMBINING', 458),\n",
       " ('FOR', 455),\n",
       " ('ABOVE', 445),\n",
       " ('CYRILLIC', 444),\n",
       " ('ITALIC', 429),\n",
       " ('SQUARE', 420),\n",
       " ('NUSHU', 397),\n",
       " ('SANS-SERIF', 385),\n",
       " ('RADICAL', 385),\n",
       " ('CIRCLED', 382),\n",
       " ('U', 375),\n",
       " ('MARK', 355),\n",
       " ('FINAL', 354),\n",
       " ('RIGHT', 353),\n",
       " ('LEFT', 352),\n",
       " ('TAI', 344),\n",
       " ('DOUBLE', 334),\n",
       " ('O', 323),\n",
       " ('E', 304),\n",
       " ('ONE', 300),\n",
       " ('VAI', 300),\n",
       " ('BLACK', 295),\n",
       " ('B', 290),\n",
       " ('TWO', 289),\n",
       " ('I', 289),\n",
       " ('BELOW', 289),\n",
       " ('HENTAIGANA', 285),\n",
       " ('DOT', 283),\n",
       " ('VARIATION', 260),\n",
       " ('PATTERN', 257),\n",
       " ('WHITE', 256),\n",
       " ('BRAILLE', 256),\n",
       " ('THREE', 252),\n",
       " ('BYZANTINE', 246),\n",
       " ('ISOLATED', 236),\n",
       " ('MODIFIER', 229),\n",
       " ('MYANMAR', 223),\n",
       " ('OF', 222),\n",
       " ('HEAVY', 222),\n",
       " ('STROKE', 219),\n",
       " ('KATAKANA', 219),\n",
       " ('KANGXI', 214),\n",
       " ('MENDE', 213),\n",
       " ('KIKAKUI', 213),\n",
       " ('FOUR', 209),\n",
       " ('TIBETAN', 207),\n",
       " ('MEEM', 202),\n",
       " ('INITIAL', 202),\n",
       " ('VERTICAL', 199),\n",
       " ('FIVE', 193),\n",
       " ('TO', 190),\n",
       " ('RIGHTWARDS', 189),\n",
       " ('KA', 188),\n",
       " ('COPTIC', 187),\n",
       " ('YEH', 187),\n",
       " ('CARRIER', 181),\n",
       " ('UP', 178),\n",
       " ('PLUS', 175),\n",
       " ('GEORGIAN', 174),\n",
       " ('SQUARED', 173),\n",
       " ('HOOK', 172)]"
      ]
     },
     "execution_count": 3,
     "metadata": {},
     "output_type": "execute_result"
    }
   ],
   "source": [
    "c = collections.Counter()\n",
    "\n",
    "for i in range(0, sys.maxunicode+1):\n",
    "    try:\n",
    "        name = unicodedata.name(chr(i))\n",
    "    except ValueError:  # no such name\n",
    "        continue\n",
    "    for word in name.split():\n",
    "        c[word] += 1\n",
    "\n",
    "c.most_common(100)\n",
    "        "
   ]
  },
  {
   "cell_type": "code",
   "execution_count": 6,
   "metadata": {},
   "outputs": [
    {
     "data": {
      "text/plain": [
       "[('I', 328579),\n",
       " ('E', 283007),\n",
       " ('D', 216785),\n",
       " ('A', 212292),\n",
       " ('N', 143259),\n",
       " ('C', 135129),\n",
       " ('R', 133771),\n",
       " ('H', 127796),\n",
       " ('O', 126718),\n",
       " ('G', 126587),\n",
       " ('U', 118655),\n",
       " ('F', 113450),\n",
       " ('P', 105943),\n",
       " ('L', 102997),\n",
       " ('K', 97959),\n",
       " ('-', 94481),\n",
       " ('J', 93204),\n",
       " ('2', 83609),\n",
       " ('T', 63185),\n",
       " ('B', 51382),\n",
       " ('S', 45825),\n",
       " ('Y', 29183),\n",
       " ('M', 26405),\n",
       " ('5', 26133),\n",
       " ('4', 26120),\n",
       " ('9', 26043),\n",
       " ('8', 25964),\n",
       " ('6', 25955),\n",
       " ('7', 25814),\n",
       " ('3', 25063),\n",
       " ('0', 23436),\n",
       " ('1', 22906),\n",
       " ('W', 12265),\n",
       " ('V', 5635),\n",
       " ('Z', 1824),\n",
       " ('X', 1808),\n",
       " ('Q', 1488)]"
      ]
     },
     "execution_count": 6,
     "metadata": {},
     "output_type": "execute_result"
    }
   ],
   "source": [
    "c = collections.Counter()\n",
    "\n",
    "for i in range(0, sys.maxunicode+1):\n",
    "    try:\n",
    "        name = unicodedata.name(chr(i))\n",
    "    except ValueError:  # no such name\n",
    "        continue\n",
    "    for word in name.split():\n",
    "        for char in word:\n",
    "            c[char] += 1\n",
    "\n",
    "c.most_common()"
   ]
  },
  {
   "cell_type": "markdown",
   "metadata": {},
   "source": [
    "Conclusion: character names are written with uppercase A..Z, 0..9, dash, and space."
   ]
  },
  {
   "cell_type": "code",
   "execution_count": null,
   "metadata": {},
   "outputs": [],
   "source": []
  }
 ],
 "metadata": {
  "kernelspec": {
   "display_name": "Python 3",
   "language": "python",
   "name": "python3"
  },
  "language_info": {
   "codemirror_mode": {
    "name": "ipython",
    "version": 3
   },
   "file_extension": ".py",
   "mimetype": "text/x-python",
   "name": "python",
   "nbconvert_exporter": "python",
   "pygments_lexer": "ipython3",
   "version": "3.7.0"
  }
 },
 "nbformat": 4,
 "nbformat_minor": 2
}
