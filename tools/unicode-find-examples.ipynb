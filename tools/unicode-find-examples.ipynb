{
 "cells": [
  {
   "cell_type": "code",
   "execution_count": 20,
   "metadata": {},
   "outputs": [
    {
     "data": {
      "text/plain": [
       "1114111"
      ]
     },
     "execution_count": 20,
     "metadata": {},
     "output_type": "execute_result"
    }
   ],
   "source": [
    "import unicodedata\n",
    "import collections\n",
    "import operator\n",
    "import sys\n",
    "sys.maxunicode"
   ]
  },
  {
   "cell_type": "code",
   "execution_count": 29,
   "metadata": {},
   "outputs": [
    {
     "data": {
      "text/plain": [
       "[('KISS', 7),\n",
       " ('PEN', 7),\n",
       " ('HAL', 7),\n",
       " ('MEASURE', 7),\n",
       " ('TALENTS', 7),\n",
       " ('QOPH', 7),\n",
       " ('SANDHI', 7),\n",
       " ('DUN3', 7),\n",
       " ('MASH', 7),\n",
       " ('GIR2', 7),\n",
       " ('GI4', 7),\n",
       " ('GU2', 7),\n",
       " ('LUGAL', 7),\n",
       " ('BAN2', 7),\n",
       " ('VOS', 7),\n",
       " ('ATTACHED', 7),\n",
       " ('DIPLI', 7),\n",
       " ('KATO', 7),\n",
       " ('DIATONIKI', 7),\n",
       " ('YFESIS', 7),\n",
       " ('DIESIS', 7),\n",
       " ('ARKTIKO', 7),\n",
       " ('ANGLED', 7),\n",
       " ('HEEL', 7),\n",
       " ('MOVEMENT-HINGE', 7),\n",
       " ('TRAVEL-FLOORPLANE', 7),\n",
       " ('CHEST', 7),\n",
       " ('TENSE', 7),\n",
       " ('EYEBROWS', 7),\n",
       " ('WRINKLED', 7),\n",
       " ('LIPS', 7),\n",
       " ('TEETH', 7),\n",
       " ('SPEAKER', 7),\n",
       " ('ORE', 7),\n",
       " ('DOLLAR', 6),\n",
       " ('YEN', 6),\n",
       " ('BROKEN', 6),\n",
       " ('DZ', 6),\n",
       " ('SWASH', 6),\n",
       " ('TRIANGULAR', 6),\n",
       " ('SAMPI', 6),\n",
       " ('DIGAMMA', 6),\n",
       " ('KAI', 6),\n",
       " ('KOPPA', 6),\n",
       " ('KHEI', 6),\n",
       " ('HORI', 6),\n",
       " ('GANGIA', 6),\n",
       " ('SAN', 6),\n",
       " ('NJE', 6),\n",
       " ('FITA', 6),\n",
       " ('IZHITSA', 6),\n",
       " ('YAE', 6),\n",
       " ('ECH', 6),\n",
       " ('VAV', 6),\n",
       " ('MADDA', 6),\n",
       " ('SUKUN', 6),\n",
       " ('NYEH', 6),\n",
       " ('DYEH', 6),\n",
       " ('TCHEH', 6),\n",
       " ('YAA', 6),\n",
       " ('NAA', 6),\n",
       " ('JJA', 6),\n",
       " ('NUMERATOR', 6),\n",
       " ('THAN', 6),\n",
       " ('SIXTEENTH', 6),\n",
       " ('ODD', 6),\n",
       " ('EVEN', 6),\n",
       " ('KAN', 6),\n",
       " ('EI', 6),\n",
       " ('NAG', 6),\n",
       " ('TALL', 6),\n",
       " ('GREAT', 6),\n",
       " ('PWA', 6),\n",
       " ('AITON', 6),\n",
       " ('GAN', 6),\n",
       " ('RAE', 6),\n",
       " ('TAR', 6),\n",
       " ('AEN', 6),\n",
       " ('HHA', 6),\n",
       " ('SHI', 6),\n",
       " ('BEE', 6),\n",
       " ('TEE', 6),\n",
       " ('YEE', 6),\n",
       " ('DEE', 6),\n",
       " ('JEE', 6),\n",
       " ('TOO', 6),\n",
       " ('TWE', 6),\n",
       " ('LOO', 6),\n",
       " ('SH', 6),\n",
       " ('EAR', 6),\n",
       " ('UA', 6),\n",
       " ('WIGGLY', 6),\n",
       " ('REPA', 6),\n",
       " ('NDA', 6),\n",
       " ('NARROW', 6),\n",
       " ('AV', 6),\n",
       " ('VRACHY', 6),\n",
       " ('DAGGER', 6),\n",
       " ('TIE', 6),\n",
       " ('PARTIAL', 6)]"
      ]
     },
     "execution_count": 29,
     "metadata": {},
     "output_type": "execute_result"
    }
   ],
   "source": [
    "c = collections.Counter()\n",
    "\n",
    "for i in range(0, sys.maxunicode+1):\n",
    "    try:\n",
    "        name = unicodedata.name(chr(i))\n",
    "    except ValueError:  # no such name\n",
    "        continue\n",
    "    for word in name.split():\n",
    "        c[word] += 1\n",
    "\n",
    "i = 1200\n",
    "sorted(c.items(), key=operator.itemgetter(1), reverse=True)[i:i+100]\n",
    "        "
   ]
  },
  {
   "cell_type": "code",
   "execution_count": null,
   "metadata": {},
   "outputs": [],
   "source": []
  }
 ],
 "metadata": {
  "kernelspec": {
   "display_name": "Python 3",
   "language": "python",
   "name": "python3"
  },
  "language_info": {
   "codemirror_mode": {
    "name": "ipython",
    "version": 3
   },
   "file_extension": ".py",
   "mimetype": "text/x-python",
   "name": "python",
   "nbconvert_exporter": "python",
   "pygments_lexer": "ipython3",
   "version": "3.6.5"
  }
 },
 "nbformat": 4,
 "nbformat_minor": 2
}
